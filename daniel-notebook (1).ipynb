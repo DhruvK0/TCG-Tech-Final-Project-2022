{
 "cells": [
  {
   "cell_type": "code",
   "execution_count": 1,
   "id": "aed29f68",
   "metadata": {},
   "outputs": [],
   "source": [
    "# Please don't change this cell, but do make sure to run it.\n",
    "import pandas as pd\n",
    "import matplotlib.pyplot as plt\n",
    "plt.style.use('ggplot')\n",
    "import numpy as np\n",
    "answer_words = pd.read_csv('edited_data.csv')"
   ]
  },
  {
   "cell_type": "code",
   "execution_count": 2,
   "id": "af6dd92e",
   "metadata": {},
   "outputs": [],
   "source": [
    "answer_words = answer_words.drop(columns = [\"RowNumber\", \"Unnamed: 0\"])"
   ]
  },
  {
   "cell_type": "code",
   "execution_count": 3,
   "id": "f15884ff",
   "metadata": {},
   "outputs": [],
   "source": [
    "answer_words[\"CustomerId\"].unique().shape[0]\n",
    "answer_words = answer_words.set_index(\"CustomerId\")\n",
    "answer_words = answer_words[answer_words[\"CreditScore\"] <= 850]"
   ]
  },
  {
   "cell_type": "code",
   "execution_count": 4,
   "id": "4a9e44a9",
   "metadata": {},
   "outputs": [],
   "source": [
    "def capitalize(variable):\n",
    "    return variable.capitalize()\n",
    "\n",
    "answer_words[\"Geography\"] = answer_words[\"Geography\"].apply(capitalize)"
   ]
  },
  {
   "cell_type": "code",
   "execution_count": 5,
   "id": "8cc947ff",
   "metadata": {},
   "outputs": [
    {
     "data": {
      "text/html": [
       "<div>\n",
       "<style scoped>\n",
       "    .dataframe tbody tr th:only-of-type {\n",
       "        vertical-align: middle;\n",
       "    }\n",
       "\n",
       "    .dataframe tbody tr th {\n",
       "        vertical-align: top;\n",
       "    }\n",
       "\n",
       "    .dataframe thead th {\n",
       "        text-align: right;\n",
       "    }\n",
       "</style>\n",
       "<table border=\"1\" class=\"dataframe\">\n",
       "  <thead>\n",
       "    <tr style=\"text-align: right;\">\n",
       "      <th></th>\n",
       "      <th>Surname</th>\n",
       "      <th>CreditScore</th>\n",
       "      <th>Geography</th>\n",
       "      <th>Gender</th>\n",
       "      <th>Age</th>\n",
       "      <th>Tenure</th>\n",
       "      <th>Balance</th>\n",
       "      <th>NumOfProducts</th>\n",
       "      <th>HasCrCard</th>\n",
       "      <th>IsActiveMember</th>\n",
       "      <th>EstimatedSalary</th>\n",
       "      <th>Exited</th>\n",
       "    </tr>\n",
       "    <tr>\n",
       "      <th>CustomerId</th>\n",
       "      <th></th>\n",
       "      <th></th>\n",
       "      <th></th>\n",
       "      <th></th>\n",
       "      <th></th>\n",
       "      <th></th>\n",
       "      <th></th>\n",
       "      <th></th>\n",
       "      <th></th>\n",
       "      <th></th>\n",
       "      <th></th>\n",
       "      <th></th>\n",
       "    </tr>\n",
       "  </thead>\n",
       "  <tbody>\n",
       "    <tr>\n",
       "      <th>15634602</th>\n",
       "      <td>Hargrave</td>\n",
       "      <td>619</td>\n",
       "      <td>France</td>\n",
       "      <td>Female</td>\n",
       "      <td>42</td>\n",
       "      <td>2</td>\n",
       "      <td>0.00</td>\n",
       "      <td>1.0</td>\n",
       "      <td>1</td>\n",
       "      <td>1</td>\n",
       "      <td>101348.88</td>\n",
       "      <td>1.0</td>\n",
       "    </tr>\n",
       "    <tr>\n",
       "      <th>15647311</th>\n",
       "      <td>Hill</td>\n",
       "      <td>608</td>\n",
       "      <td>Spain</td>\n",
       "      <td>Female</td>\n",
       "      <td>41</td>\n",
       "      <td>1</td>\n",
       "      <td>83807.86</td>\n",
       "      <td>1.0</td>\n",
       "      <td>0</td>\n",
       "      <td>1</td>\n",
       "      <td>112542.58</td>\n",
       "      <td>0.0</td>\n",
       "    </tr>\n",
       "    <tr>\n",
       "      <th>15701354</th>\n",
       "      <td>Boni</td>\n",
       "      <td>699</td>\n",
       "      <td>France</td>\n",
       "      <td>Female</td>\n",
       "      <td>39</td>\n",
       "      <td>1</td>\n",
       "      <td>0.00</td>\n",
       "      <td>2.0</td>\n",
       "      <td>0</td>\n",
       "      <td>0</td>\n",
       "      <td>93826.63</td>\n",
       "      <td>0.0</td>\n",
       "    </tr>\n",
       "    <tr>\n",
       "      <th>15737888</th>\n",
       "      <td>Mitchell</td>\n",
       "      <td>850</td>\n",
       "      <td>Spain</td>\n",
       "      <td>Female</td>\n",
       "      <td>43</td>\n",
       "      <td>2</td>\n",
       "      <td>125510.82</td>\n",
       "      <td>1.1</td>\n",
       "      <td>1</td>\n",
       "      <td>1</td>\n",
       "      <td>79084.10</td>\n",
       "      <td>0.0</td>\n",
       "    </tr>\n",
       "    <tr>\n",
       "      <th>15592531</th>\n",
       "      <td>Bartlett</td>\n",
       "      <td>822</td>\n",
       "      <td>France</td>\n",
       "      <td>Male</td>\n",
       "      <td>50</td>\n",
       "      <td>7</td>\n",
       "      <td>0.00</td>\n",
       "      <td>2.1</td>\n",
       "      <td>1</td>\n",
       "      <td>1</td>\n",
       "      <td>10062.80</td>\n",
       "      <td>0.0</td>\n",
       "    </tr>\n",
       "    <tr>\n",
       "      <th>...</th>\n",
       "      <td>...</td>\n",
       "      <td>...</td>\n",
       "      <td>...</td>\n",
       "      <td>...</td>\n",
       "      <td>...</td>\n",
       "      <td>...</td>\n",
       "      <td>...</td>\n",
       "      <td>...</td>\n",
       "      <td>...</td>\n",
       "      <td>...</td>\n",
       "      <td>...</td>\n",
       "      <td>...</td>\n",
       "    </tr>\n",
       "    <tr>\n",
       "      <th>15606229</th>\n",
       "      <td>Obijiaku</td>\n",
       "      <td>771</td>\n",
       "      <td>France</td>\n",
       "      <td>Male</td>\n",
       "      <td>39</td>\n",
       "      <td>5</td>\n",
       "      <td>0.00</td>\n",
       "      <td>2.0</td>\n",
       "      <td>1</td>\n",
       "      <td>0</td>\n",
       "      <td>96270.64</td>\n",
       "      <td>0.0</td>\n",
       "    </tr>\n",
       "    <tr>\n",
       "      <th>15569892</th>\n",
       "      <td>Johnstone</td>\n",
       "      <td>516</td>\n",
       "      <td>France</td>\n",
       "      <td>Male</td>\n",
       "      <td>35</td>\n",
       "      <td>10</td>\n",
       "      <td>57369.61</td>\n",
       "      <td>1.0</td>\n",
       "      <td>1</td>\n",
       "      <td>1</td>\n",
       "      <td>101699.77</td>\n",
       "      <td>0.0</td>\n",
       "    </tr>\n",
       "    <tr>\n",
       "      <th>15584532</th>\n",
       "      <td>Liu</td>\n",
       "      <td>709</td>\n",
       "      <td>France</td>\n",
       "      <td>Female</td>\n",
       "      <td>36</td>\n",
       "      <td>7</td>\n",
       "      <td>0.00</td>\n",
       "      <td>1.0</td>\n",
       "      <td>0</td>\n",
       "      <td>1</td>\n",
       "      <td>42085.58</td>\n",
       "      <td>1.0</td>\n",
       "    </tr>\n",
       "    <tr>\n",
       "      <th>15682355</th>\n",
       "      <td>Sabbatini</td>\n",
       "      <td>772</td>\n",
       "      <td>Germany</td>\n",
       "      <td>Male</td>\n",
       "      <td>42</td>\n",
       "      <td>3</td>\n",
       "      <td>75075.31</td>\n",
       "      <td>2.0</td>\n",
       "      <td>1</td>\n",
       "      <td>0</td>\n",
       "      <td>92888.52</td>\n",
       "      <td>1.0</td>\n",
       "    </tr>\n",
       "    <tr>\n",
       "      <th>15628319</th>\n",
       "      <td>Walker</td>\n",
       "      <td>792</td>\n",
       "      <td>France</td>\n",
       "      <td>Female</td>\n",
       "      <td>28</td>\n",
       "      <td>4</td>\n",
       "      <td>130142.79</td>\n",
       "      <td>1.0</td>\n",
       "      <td>1</td>\n",
       "      <td>0</td>\n",
       "      <td>38190.78</td>\n",
       "      <td>0.0</td>\n",
       "    </tr>\n",
       "  </tbody>\n",
       "</table>\n",
       "<p>9975 rows × 12 columns</p>\n",
       "</div>"
      ],
      "text/plain": [
       "              Surname  CreditScore Geography  Gender  Age  Tenure    Balance  \\\n",
       "CustomerId                                                                     \n",
       "15634602     Hargrave          619    France  Female   42       2       0.00   \n",
       "15647311         Hill          608     Spain  Female   41       1   83807.86   \n",
       "15701354         Boni          699    France  Female   39       1       0.00   \n",
       "15737888     Mitchell          850     Spain  Female   43       2  125510.82   \n",
       "15592531     Bartlett          822    France    Male   50       7       0.00   \n",
       "...               ...          ...       ...     ...  ...     ...        ...   \n",
       "15606229     Obijiaku          771    France    Male   39       5       0.00   \n",
       "15569892    Johnstone          516    France    Male   35      10   57369.61   \n",
       "15584532          Liu          709    France  Female   36       7       0.00   \n",
       "15682355    Sabbatini          772   Germany    Male   42       3   75075.31   \n",
       "15628319       Walker          792    France  Female   28       4  130142.79   \n",
       "\n",
       "            NumOfProducts  HasCrCard  IsActiveMember  EstimatedSalary  Exited  \n",
       "CustomerId                                                                     \n",
       "15634602              1.0          1               1        101348.88     1.0  \n",
       "15647311              1.0          0               1        112542.58     0.0  \n",
       "15701354              2.0          0               0         93826.63     0.0  \n",
       "15737888              1.1          1               1         79084.10     0.0  \n",
       "15592531              2.1          1               1         10062.80     0.0  \n",
       "...                   ...        ...             ...              ...     ...  \n",
       "15606229              2.0          1               0         96270.64     0.0  \n",
       "15569892              1.0          1               1        101699.77     0.0  \n",
       "15584532              1.0          0               1         42085.58     1.0  \n",
       "15682355              2.0          1               0         92888.52     1.0  \n",
       "15628319              1.0          1               0         38190.78     0.0  \n",
       "\n",
       "[9975 rows x 12 columns]"
      ]
     },
     "execution_count": 5,
     "metadata": {},
     "output_type": "execute_result"
    }
   ],
   "source": [
    "answer_words"
   ]
  },
  {
   "cell_type": "code",
   "execution_count": 6,
   "id": "af090e19",
   "metadata": {},
   "outputs": [
    {
     "data": {
      "text/html": [
       "<div>\n",
       "<style scoped>\n",
       "    .dataframe tbody tr th:only-of-type {\n",
       "        vertical-align: middle;\n",
       "    }\n",
       "\n",
       "    .dataframe tbody tr th {\n",
       "        vertical-align: top;\n",
       "    }\n",
       "\n",
       "    .dataframe thead th {\n",
       "        text-align: right;\n",
       "    }\n",
       "</style>\n",
       "<table border=\"1\" class=\"dataframe\">\n",
       "  <thead>\n",
       "    <tr style=\"text-align: right;\">\n",
       "      <th></th>\n",
       "      <th>Surname</th>\n",
       "      <th>CreditScore</th>\n",
       "      <th>Gender</th>\n",
       "      <th>Age</th>\n",
       "      <th>Tenure</th>\n",
       "      <th>Balance</th>\n",
       "      <th>NumOfProducts</th>\n",
       "      <th>HasCrCard</th>\n",
       "      <th>IsActiveMember</th>\n",
       "      <th>EstimatedSalary</th>\n",
       "      <th>Exited</th>\n",
       "    </tr>\n",
       "    <tr>\n",
       "      <th>Geography</th>\n",
       "      <th></th>\n",
       "      <th></th>\n",
       "      <th></th>\n",
       "      <th></th>\n",
       "      <th></th>\n",
       "      <th></th>\n",
       "      <th></th>\n",
       "      <th></th>\n",
       "      <th></th>\n",
       "      <th></th>\n",
       "      <th></th>\n",
       "    </tr>\n",
       "  </thead>\n",
       "  <tbody>\n",
       "    <tr>\n",
       "      <th>France</th>\n",
       "      <td>5001</td>\n",
       "      <td>5001</td>\n",
       "      <td>5001</td>\n",
       "      <td>5001</td>\n",
       "      <td>5001</td>\n",
       "      <td>4995</td>\n",
       "      <td>4995</td>\n",
       "      <td>5001</td>\n",
       "      <td>5001</td>\n",
       "      <td>5001</td>\n",
       "      <td>4995</td>\n",
       "    </tr>\n",
       "    <tr>\n",
       "      <th>Germany</th>\n",
       "      <td>2502</td>\n",
       "      <td>2502</td>\n",
       "      <td>2502</td>\n",
       "      <td>2502</td>\n",
       "      <td>2502</td>\n",
       "      <td>2499</td>\n",
       "      <td>2500</td>\n",
       "      <td>2502</td>\n",
       "      <td>2502</td>\n",
       "      <td>2502</td>\n",
       "      <td>2499</td>\n",
       "    </tr>\n",
       "    <tr>\n",
       "      <th>Spain</th>\n",
       "      <td>2472</td>\n",
       "      <td>2472</td>\n",
       "      <td>2472</td>\n",
       "      <td>2472</td>\n",
       "      <td>2472</td>\n",
       "      <td>2472</td>\n",
       "      <td>2470</td>\n",
       "      <td>2472</td>\n",
       "      <td>2472</td>\n",
       "      <td>2472</td>\n",
       "      <td>2472</td>\n",
       "    </tr>\n",
       "  </tbody>\n",
       "</table>\n",
       "</div>"
      ],
      "text/plain": [
       "           Surname  CreditScore  Gender   Age  Tenure  Balance  NumOfProducts  \\\n",
       "Geography                                                                       \n",
       "France        5001         5001    5001  5001    5001     4995           4995   \n",
       "Germany       2502         2502    2502  2502    2502     2499           2500   \n",
       "Spain         2472         2472    2472  2472    2472     2472           2470   \n",
       "\n",
       "           HasCrCard  IsActiveMember  EstimatedSalary  Exited  \n",
       "Geography                                                      \n",
       "France          5001            5001             5001    4995  \n",
       "Germany         2502            2502             2502    2499  \n",
       "Spain           2472            2472             2472    2472  "
      ]
     },
     "execution_count": 6,
     "metadata": {},
     "output_type": "execute_result"
    }
   ],
   "source": [
    "answer_geo = answer_words.groupby(\"Geography\").count()\n",
    "answer_geo"
   ]
  },
  {
   "cell_type": "code",
   "execution_count": 7,
   "id": "16569852",
   "metadata": {},
   "outputs": [
    {
     "data": {
      "text/plain": [
       "<AxesSubplot:xlabel='Geography'>"
      ]
     },
     "execution_count": 7,
     "metadata": {},
     "output_type": "execute_result"
    },
    {
     "data": {
      "image/png": "[encoded data removed]",
      "text/plain": [
       "<Figure size 432x288 with 1 Axes>"
      ]
     },
     "metadata": {},
     "output_type": "display_data"
    }
   ],
   "source": [
    "answer_geo.plot(kind='bar', y='Surname')"
   ]
  },
  {
   "cell_type": "code",
   "execution_count": 28,
   "id": "6c4c8487",
   "metadata": {
    "scrolled": false
   },
   "outputs": [
    {
     "data": {
      "text/html": [
       "<div>\n",
       "<style scoped>\n",
       "    .dataframe tbody tr th:only-of-type {\n",
       "        vertical-align: middle;\n",
       "    }\n",
       "\n",
       "    .dataframe tbody tr th {\n",
       "        vertical-align: top;\n",
       "    }\n",
       "\n",
       "    .dataframe thead th {\n",
       "        text-align: right;\n",
       "    }\n",
       "</style>\n",
       "<table border=\"1\" class=\"dataframe\">\n",
       "  <thead>\n",
       "    <tr style=\"text-align: right;\">\n",
       "      <th></th>\n",
       "      <th>Balance</th>\n",
       "      <th>Exited</th>\n",
       "    </tr>\n",
       "    <tr>\n",
       "      <th>CustomerId</th>\n",
       "      <th></th>\n",
       "      <th></th>\n",
       "    </tr>\n",
       "  </thead>\n",
       "  <tbody>\n",
       "    <tr>\n",
       "      <th>15634602</th>\n",
       "      <td>0.00</td>\n",
       "      <td>1.0</td>\n",
       "    </tr>\n",
       "    <tr>\n",
       "      <th>15647311</th>\n",
       "      <td>83807.86</td>\n",
       "      <td>0.0</td>\n",
       "    </tr>\n",
       "    <tr>\n",
       "      <th>15701354</th>\n",
       "      <td>0.00</td>\n",
       "      <td>0.0</td>\n",
       "    </tr>\n",
       "    <tr>\n",
       "      <th>15737888</th>\n",
       "      <td>125510.82</td>\n",
       "      <td>0.0</td>\n",
       "    </tr>\n",
       "    <tr>\n",
       "      <th>15592531</th>\n",
       "      <td>0.00</td>\n",
       "      <td>0.0</td>\n",
       "    </tr>\n",
       "    <tr>\n",
       "      <th>...</th>\n",
       "      <td>...</td>\n",
       "      <td>...</td>\n",
       "    </tr>\n",
       "    <tr>\n",
       "      <th>15606229</th>\n",
       "      <td>0.00</td>\n",
       "      <td>0.0</td>\n",
       "    </tr>\n",
       "    <tr>\n",
       "      <th>15569892</th>\n",
       "      <td>57369.61</td>\n",
       "      <td>0.0</td>\n",
       "    </tr>\n",
       "    <tr>\n",
       "      <th>15584532</th>\n",
       "      <td>0.00</td>\n",
       "      <td>1.0</td>\n",
       "    </tr>\n",
       "    <tr>\n",
       "      <th>15682355</th>\n",
       "      <td>75075.31</td>\n",
       "      <td>1.0</td>\n",
       "    </tr>\n",
       "    <tr>\n",
       "      <th>15628319</th>\n",
       "      <td>130142.79</td>\n",
       "      <td>0.0</td>\n",
       "    </tr>\n",
       "  </tbody>\n",
       "</table>\n",
       "<p>9966 rows × 2 columns</p>\n",
       "</div>"
      ],
      "text/plain": [
       "              Balance  Exited\n",
       "CustomerId                   \n",
       "15634602         0.00     1.0\n",
       "15647311     83807.86     0.0\n",
       "15701354         0.00     0.0\n",
       "15737888    125510.82     0.0\n",
       "15592531         0.00     0.0\n",
       "...               ...     ...\n",
       "15606229         0.00     0.0\n",
       "15569892     57369.61     0.0\n",
       "15584532         0.00     1.0\n",
       "15682355     75075.31     1.0\n",
       "15628319    130142.79     0.0\n",
       "\n",
       "[9966 rows x 2 columns]"
      ]
     },
     "execution_count": 28,
     "metadata": {},
     "output_type": "execute_result"
    }
   ],
   "source": [
    "rev_churn = answer_words[['Balance', 'Exited']]\n",
    "rev_churn = rev_churn.dropna()\n",
    "rev_churn"
   ]
  },
  {
   "cell_type": "code",
   "execution_count": 31,
   "id": "e28bb49b",
   "metadata": {},
   "outputs": [
    {
     "data": {
      "text/html": [
       "<div>\n",
       "<style scoped>\n",
       "    .dataframe tbody tr th:only-of-type {\n",
       "        vertical-align: middle;\n",
       "    }\n",
       "\n",
       "    .dataframe tbody tr th {\n",
       "        vertical-align: top;\n",
       "    }\n",
       "\n",
       "    .dataframe thead th {\n",
       "        text-align: right;\n",
       "    }\n",
       "</style>\n",
       "<table border=\"1\" class=\"dataframe\">\n",
       "  <thead>\n",
       "    <tr style=\"text-align: right;\">\n",
       "      <th></th>\n",
       "      <th>Balance</th>\n",
       "      <th>Exited</th>\n",
       "    </tr>\n",
       "    <tr>\n",
       "      <th>CustomerId</th>\n",
       "      <th></th>\n",
       "      <th></th>\n",
       "    </tr>\n",
       "  </thead>\n",
       "  <tbody>\n",
       "    <tr>\n",
       "      <th>15647311</th>\n",
       "      <td>83807.86</td>\n",
       "      <td>0.0</td>\n",
       "    </tr>\n",
       "    <tr>\n",
       "      <th>15737888</th>\n",
       "      <td>125510.82</td>\n",
       "      <td>0.0</td>\n",
       "    </tr>\n",
       "    <tr>\n",
       "      <th>15656148</th>\n",
       "      <td>115046.74</td>\n",
       "      <td>1.0</td>\n",
       "    </tr>\n",
       "    <tr>\n",
       "      <th>15792365</th>\n",
       "      <td>142051.07</td>\n",
       "      <td>0.0</td>\n",
       "    </tr>\n",
       "    <tr>\n",
       "      <th>15592389</th>\n",
       "      <td>134603.88</td>\n",
       "      <td>0.0</td>\n",
       "    </tr>\n",
       "    <tr>\n",
       "      <th>...</th>\n",
       "      <td>...</td>\n",
       "      <td>...</td>\n",
       "    </tr>\n",
       "    <tr>\n",
       "      <th>15769959</th>\n",
       "      <td>88381.21</td>\n",
       "      <td>1.0</td>\n",
       "    </tr>\n",
       "    <tr>\n",
       "      <th>15569266</th>\n",
       "      <td>155060.41</td>\n",
       "      <td>0.0</td>\n",
       "    </tr>\n",
       "    <tr>\n",
       "      <th>15569892</th>\n",
       "      <td>57369.61</td>\n",
       "      <td>0.0</td>\n",
       "    </tr>\n",
       "    <tr>\n",
       "      <th>15682355</th>\n",
       "      <td>75075.31</td>\n",
       "      <td>1.0</td>\n",
       "    </tr>\n",
       "    <tr>\n",
       "      <th>15628319</th>\n",
       "      <td>130142.79</td>\n",
       "      <td>0.0</td>\n",
       "    </tr>\n",
       "  </tbody>\n",
       "</table>\n",
       "<p>6358 rows × 2 columns</p>\n",
       "</div>"
      ],
      "text/plain": [
       "              Balance  Exited\n",
       "CustomerId                   \n",
       "15647311     83807.86     0.0\n",
       "15737888    125510.82     0.0\n",
       "15656148    115046.74     1.0\n",
       "15792365    142051.07     0.0\n",
       "15592389    134603.88     0.0\n",
       "...               ...     ...\n",
       "15769959     88381.21     1.0\n",
       "15569266    155060.41     0.0\n",
       "15569892     57369.61     0.0\n",
       "15682355     75075.31     1.0\n",
       "15628319    130142.79     0.0\n",
       "\n",
       "[6358 rows x 2 columns]"
      ]
     },
     "execution_count": 31,
     "metadata": {},
     "output_type": "execute_result"
    }
   ],
   "source": [
    "rev_churn_no_zero = rev_churn[rev_churn.get('Balance') != 0]\n",
    "rev_churn_no_zero"
   ]
  },
  {
   "cell_type": "code",
   "execution_count": 33,
   "id": "23c09383",
   "metadata": {
    "scrolled": false
   },
   "outputs": [],
   "source": [
    "median_rev = rev_churn.get(\"Balance\").median()\n",
    "median_rev_no_zero = rev_churn_no_zero.get(\"Balance\").median()"
   ]
  },
  {
   "cell_type": "code",
   "execution_count": 34,
   "id": "01e36eab",
   "metadata": {
    "scrolled": false
   },
   "outputs": [
    {
     "data": {
      "text/plain": [
       "<AxesSubplot:title={'center':'Revenue Distribution'}, ylabel='Frequency'>"
      ]
     },
     "execution_count": 34,
     "metadata": {},
     "output_type": "execute_result"
    },
    {
     "data": {
      "image/png": "[encoded data removed]",
      "text/plain": [
       "<Figure size 432x288 with 1 Axes>"
      ]
     },
     "metadata": {},
     "output_type": "display_data"
    }
   ],
   "source": [
    "rev_churn.get(\"Balance\").plot(kind='hist', title=\"Revenue Distribution\")"
   ]
  },
  {
   "cell_type": "code",
   "execution_count": 38,
   "id": "17a132ad",
   "metadata": {},
   "outputs": [
    {
     "data": {
      "text/plain": [
       "<AxesSubplot:title={'center':'Revenue Distribution Without 0'}, ylabel='Frequency'>"
      ]
     },
     "execution_count": 38,
     "metadata": {},
     "output_type": "execute_result"
    },
    {
     "data": {
      "image/png": "[encoded data removed]",
      "text/plain": [
       "<Figure size 432x288 with 1 Axes>"
      ]
     },
     "metadata": {},
     "output_type": "display_data"
    }
   ],
   "source": [
    "rev_churn_no_zero.get(\"Balance\").plot(kind='hist', title=\"Revenue Distribution Without 0\")"
   ]
  },
  {
   "cell_type": "code",
   "execution_count": 35,
   "id": "a09a00f9",
   "metadata": {},
   "outputs": [],
   "source": [
    "rev_churn_lower = rev_churn[rev_churn.get('Balance') < median_rev]\n",
    "mean_churn_lower = rev_churn_lower.get(\"Exited\").mean() # average churn rate for customers with revenue less than median\n",
    "rev_churn_upper = rev_churn[rev_churn.get('Balance') >= median_rev]\n",
    "mean_churn_upper = rev_churn_upper.get(\"Exited\").mean() # average churn rate for customers with revenue greater than median\n",
    "labels = [\"Revenue Less than $97000\", \"Revenue Greater than $97000\"]\n",
    "values = [mean_churn_lower, mean_churn_upper]"
   ]
  },
  {
   "cell_type": "code",
   "execution_count": 39,
   "id": "a1206302",
   "metadata": {},
   "outputs": [
    {
     "data": {
      "text/plain": [
       "Text(0.5, 1.0, 'Customer Churn vs Revenue')"
      ]
     },
     "execution_count": 39,
     "metadata": {},
     "output_type": "execute_result"
    },
    {
     "data": {
      "image/png": "[encoded data removed]",
      "text/plain": [
       "<Figure size 432x288 with 1 Axes>"
      ]
     },
     "metadata": {},
     "output_type": "display_data"
    }
   ],
   "source": [
    "plt.bar(labels, values)\n",
    "plt.title(\"Customer Churn vs Revenue\")"
   ]
  },
  {
   "cell_type": "code",
   "execution_count": 40,
   "id": "693abdf7",
   "metadata": {},
   "outputs": [],
   "source": [
    "rev_churn_1 = rev_churn[rev_churn.get('Balance') < median_rev / 2]\n",
    "mean_churn_1 = rev_churn_1.get(\"Exited\").mean() # average churn rate for customers with revenue less than median\n",
    "rev_churn_2 = rev_churn[(rev_churn.get('Balance') >= median_rev / 2) & (rev_churn.get('Balance') < median_rev)]\n",
    "mean_churn_2 = rev_churn_2.get(\"Exited\").mean() # average churn rate for customers with revenue greater than median\n",
    "rev_churn_3 = rev_churn[(rev_churn.get('Balance') >= median_rev) & (rev_churn.get('Balance') < median_rev / 2 + median_rev)]\n",
    "mean_churn_3 = rev_churn_3.get(\"Exited\").mean() # average churn rate for customers with revenue greater than median\n",
    "rev_churn_4 = rev_churn[rev_churn.get('Balance') >= median_rev / 2 + median_rev]\n",
    "mean_churn_4 = rev_churn_4.get(\"Exited\").mean() # average churn rate for customers with revenue greater than median\n",
    "labels = [\"1\", \"2\", \"3\", \"4\"]\n",
    "values = [mean_churn_1, mean_churn_2, mean_churn_3, mean_churn_4]"
   ]
  },
  {
   "cell_type": "code",
   "execution_count": 41,
   "id": "634aacb7",
   "metadata": {},
   "outputs": [
    {
     "data": {
      "text/plain": [
       "Text(0.5, 1.0, 'Customer Churn vs Revenue')"
      ]
     },
     "execution_count": 41,
     "metadata": {},
     "output_type": "execute_result"
    },
    {
     "data": {
      "image/png": "[encoded data removed]",
      "text/plain": [
       "<Figure size 432x288 with 1 Axes>"
      ]
     },
     "metadata": {},
     "output_type": "display_data"
    }
   ],
   "source": [
    "plt.bar(labels, values)\n",
    "plt.title(\"Customer Churn vs Revenue\")"
   ]
  },
  {
   "cell_type": "code",
   "execution_count": 44,
   "id": "ee824458",
   "metadata": {},
   "outputs": [
    {
     "name": "stderr",
     "output_type": "stream",
     "text": [
      "/tmp/ipykernel_182/1466012025.py:1: UserWarning: Boolean Series key will be reindexed to match DataFrame index.\n",
      "  rev_churn_01 = rev_churn_no_zero[rev_churn.get('Balance') < median_rev_no_zero / 2]\n",
      "/tmp/ipykernel_182/1466012025.py:3: UserWarning: Boolean Series key will be reindexed to match DataFrame index.\n",
      "  rev_churn_02 = rev_churn_no_zero[(rev_churn.get('Balance') >= median_rev_no_zero / 2) & (rev_churn.get('Balance') < median_rev_no_zero)]\n",
      "/tmp/ipykernel_182/1466012025.py:5: UserWarning: Boolean Series key will be reindexed to match DataFrame index.\n",
      "  rev_churn_03 = rev_churn_no_zero[(rev_churn.get('Balance') >= median_rev_no_zero) & (rev_churn.get('Balance') < median_rev_no_zero / 2 + median_rev_no_zero)]\n",
      "/tmp/ipykernel_182/1466012025.py:7: UserWarning: Boolean Series key will be reindexed to match DataFrame index.\n",
      "  rev_churn_04 = rev_churn_no_zero[rev_churn.get('Balance') >= median_rev_no_zero / 2 + median_rev_no_zero]\n"
     ]
    }
   ],
   "source": [
    "rev_churn_01 = rev_churn_no_zero[rev_churn.get('Balance') < median_rev_no_zero / 2]\n",
    "mean_churn_01 = rev_churn_01.get(\"Exited\").mean() # average churn rate for customers with revenue less than median\n",
    "rev_churn_02 = rev_churn_no_zero[(rev_churn.get('Balance') >= median_rev_no_zero / 2) & (rev_churn.get('Balance') < median_rev_no_zero)]\n",
    "mean_churn_02 = rev_churn_02.get(\"Exited\").mean() # average churn rate for customers with revenue greater than median\n",
    "rev_churn_03 = rev_churn_no_zero[(rev_churn.get('Balance') >= median_rev_no_zero) & (rev_churn.get('Balance') < median_rev_no_zero / 2 + median_rev_no_zero)]\n",
    "mean_churn_03 = rev_churn_03.get(\"Exited\").mean() # average churn rate for customers with revenue greater than median\n",
    "rev_churn_04 = rev_churn_no_zero[rev_churn.get('Balance') >= median_rev_no_zero / 2 + median_rev_no_zero]\n",
    "mean_churn_04 = rev_churn_04.get(\"Exited\").mean() # average churn rate for customers with revenue greater than median\n",
    "labels0 = [\"1\", \"2\", \"3\", \"4\"]\n",
    "values0 = [mean_churn_01, mean_churn_02, mean_churn_03, mean_churn_04]"
   ]
  },
  {
   "cell_type": "code",
   "execution_count": 45,
   "id": "78841b7e",
   "metadata": {},
   "outputs": [
    {
     "data": {
      "text/plain": [
       "Text(0.5, 1.0, 'Customer Churn vs Revenue')"
      ]
     },
     "execution_count": 45,
     "metadata": {},
     "output_type": "execute_result"
    },
    {
     "data": {
      "image/png": "[encoded data removed]",
      "text/plain": [
       "<Figure size 432x288 with 1 Axes>"
      ]
     },
     "metadata": {},
     "output_type": "display_data"
    }
   ],
   "source": [
    "plt.bar(labels0, values0)\n",
    "plt.title(\"Customer Churn vs Revenue\")"
   ]
  },
  {
   "cell_type": "code",
   "execution_count": 13,
   "id": "4b8d209f",
   "metadata": {},
   "outputs": [
    {
     "data": {
      "text/html": [
       "<div>\n",
       "<style scoped>\n",
       "    .dataframe tbody tr th:only-of-type {\n",
       "        vertical-align: middle;\n",
       "    }\n",
       "\n",
       "    .dataframe tbody tr th {\n",
       "        vertical-align: top;\n",
       "    }\n",
       "\n",
       "    .dataframe thead th {\n",
       "        text-align: right;\n",
       "    }\n",
       "</style>\n",
       "<table border=\"1\" class=\"dataframe\">\n",
       "  <thead>\n",
       "    <tr style=\"text-align: right;\">\n",
       "      <th></th>\n",
       "      <th>CreditScore</th>\n",
       "      <th>Exited</th>\n",
       "    </tr>\n",
       "    <tr>\n",
       "      <th>CustomerId</th>\n",
       "      <th></th>\n",
       "      <th></th>\n",
       "    </tr>\n",
       "  </thead>\n",
       "  <tbody>\n",
       "    <tr>\n",
       "      <th>15634602</th>\n",
       "      <td>619</td>\n",
       "      <td>1.0</td>\n",
       "    </tr>\n",
       "    <tr>\n",
       "      <th>15647311</th>\n",
       "      <td>608</td>\n",
       "      <td>0.0</td>\n",
       "    </tr>\n",
       "    <tr>\n",
       "      <th>15701354</th>\n",
       "      <td>699</td>\n",
       "      <td>0.0</td>\n",
       "    </tr>\n",
       "    <tr>\n",
       "      <th>15737888</th>\n",
       "      <td>850</td>\n",
       "      <td>0.0</td>\n",
       "    </tr>\n",
       "    <tr>\n",
       "      <th>15592531</th>\n",
       "      <td>822</td>\n",
       "      <td>0.0</td>\n",
       "    </tr>\n",
       "    <tr>\n",
       "      <th>...</th>\n",
       "      <td>...</td>\n",
       "      <td>...</td>\n",
       "    </tr>\n",
       "    <tr>\n",
       "      <th>15606229</th>\n",
       "      <td>771</td>\n",
       "      <td>0.0</td>\n",
       "    </tr>\n",
       "    <tr>\n",
       "      <th>15569892</th>\n",
       "      <td>516</td>\n",
       "      <td>0.0</td>\n",
       "    </tr>\n",
       "    <tr>\n",
       "      <th>15584532</th>\n",
       "      <td>709</td>\n",
       "      <td>1.0</td>\n",
       "    </tr>\n",
       "    <tr>\n",
       "      <th>15682355</th>\n",
       "      <td>772</td>\n",
       "      <td>1.0</td>\n",
       "    </tr>\n",
       "    <tr>\n",
       "      <th>15628319</th>\n",
       "      <td>792</td>\n",
       "      <td>0.0</td>\n",
       "    </tr>\n",
       "  </tbody>\n",
       "</table>\n",
       "<p>9966 rows × 2 columns</p>\n",
       "</div>"
      ],
      "text/plain": [
       "            CreditScore  Exited\n",
       "CustomerId                     \n",
       "15634602            619     1.0\n",
       "15647311            608     0.0\n",
       "15701354            699     0.0\n",
       "15737888            850     0.0\n",
       "15592531            822     0.0\n",
       "...                 ...     ...\n",
       "15606229            771     0.0\n",
       "15569892            516     0.0\n",
       "15584532            709     1.0\n",
       "15682355            772     1.0\n",
       "15628319            792     0.0\n",
       "\n",
       "[9966 rows x 2 columns]"
      ]
     },
     "execution_count": 13,
     "metadata": {},
     "output_type": "execute_result"
    }
   ],
   "source": [
    "credit_churn = answer_words[['CreditScore', 'Exited']]\n",
    "credit_churn = credit_churn.dropna()\n",
    "credit_churn"
   ]
  },
  {
   "cell_type": "code",
   "execution_count": 14,
   "id": "8e656aa9",
   "metadata": {},
   "outputs": [],
   "source": [
    "def credit_group(val):\n",
    "    return int(val / 100) * 100\n",
    "credit_churn = credit_churn.assign(CreditScore=credit_churn.get(\"CreditScore\").apply(credit_group))"
   ]
  },
  {
   "cell_type": "code",
   "execution_count": 15,
   "id": "c8caf431",
   "metadata": {},
   "outputs": [
    {
     "data": {
      "text/html": [
       "<div>\n",
       "<style scoped>\n",
       "    .dataframe tbody tr th:only-of-type {\n",
       "        vertical-align: middle;\n",
       "    }\n",
       "\n",
       "    .dataframe tbody tr th {\n",
       "        vertical-align: top;\n",
       "    }\n",
       "\n",
       "    .dataframe thead th {\n",
       "        text-align: right;\n",
       "    }\n",
       "</style>\n",
       "<table border=\"1\" class=\"dataframe\">\n",
       "  <thead>\n",
       "    <tr style=\"text-align: right;\">\n",
       "      <th></th>\n",
       "      <th>Exited</th>\n",
       "    </tr>\n",
       "    <tr>\n",
       "      <th>CreditScore</th>\n",
       "      <th></th>\n",
       "    </tr>\n",
       "  </thead>\n",
       "  <tbody>\n",
       "    <tr>\n",
       "      <th>300</th>\n",
       "      <td>1.000000</td>\n",
       "    </tr>\n",
       "    <tr>\n",
       "      <th>400</th>\n",
       "      <td>0.214403</td>\n",
       "    </tr>\n",
       "    <tr>\n",
       "      <th>500</th>\n",
       "      <td>0.212793</td>\n",
       "    </tr>\n",
       "    <tr>\n",
       "      <th>600</th>\n",
       "      <td>0.196902</td>\n",
       "    </tr>\n",
       "    <tr>\n",
       "      <th>700</th>\n",
       "      <td>0.198227</td>\n",
       "    </tr>\n",
       "    <tr>\n",
       "      <th>800</th>\n",
       "      <td>0.194487</td>\n",
       "    </tr>\n",
       "  </tbody>\n",
       "</table>\n",
       "</div>"
      ],
      "text/plain": [
       "               Exited\n",
       "CreditScore          \n",
       "300          1.000000\n",
       "400          0.214403\n",
       "500          0.212793\n",
       "600          0.196902\n",
       "700          0.198227\n",
       "800          0.194487"
      ]
     },
     "execution_count": 15,
     "metadata": {},
     "output_type": "execute_result"
    }
   ],
   "source": [
    "credit_churn = credit_churn.groupby(\"CreditScore\").mean()\n",
    "credit_churn"
   ]
  },
  {
   "cell_type": "code",
   "execution_count": 17,
   "id": "7e6afc95",
   "metadata": {},
   "outputs": [
    {
     "data": {
      "text/plain": [
       "<AxesSubplot:xlabel='CreditScore'>"
      ]
     },
     "execution_count": 17,
     "metadata": {},
     "output_type": "execute_result"
    },
    {
     "data": {
      "image/png": "[encoded data removed]",
      "text/plain": [
       "<Figure size 432x288 with 1 Axes>"
      ]
     },
     "metadata": {},
     "output_type": "display_data"
    }
   ],
   "source": [
    "credit_churn.plot(kind='bar', y=\"Exited\")"
   ]
  },
  {
   "cell_type": "code",
   "execution_count": 74,
   "id": "7fe052b3",
   "metadata": {},
   "outputs": [
    {
     "data": {
      "text/html": [
       "<div>\n",
       "<style scoped>\n",
       "    .dataframe tbody tr th:only-of-type {\n",
       "        vertical-align: middle;\n",
       "    }\n",
       "\n",
       "    .dataframe tbody tr th {\n",
       "        vertical-align: top;\n",
       "    }\n",
       "\n",
       "    .dataframe thead th {\n",
       "        text-align: right;\n",
       "    }\n",
       "</style>\n",
       "<table border=\"1\" class=\"dataframe\">\n",
       "  <thead>\n",
       "    <tr style=\"text-align: right;\">\n",
       "      <th></th>\n",
       "      <th>EstimatedSalary</th>\n",
       "      <th>Exited</th>\n",
       "    </tr>\n",
       "    <tr>\n",
       "      <th>CustomerId</th>\n",
       "      <th></th>\n",
       "      <th></th>\n",
       "    </tr>\n",
       "  </thead>\n",
       "  <tbody>\n",
       "    <tr>\n",
       "      <th>15634602</th>\n",
       "      <td>101348.88</td>\n",
       "      <td>1.0</td>\n",
       "    </tr>\n",
       "    <tr>\n",
       "      <th>15647311</th>\n",
       "      <td>112542.58</td>\n",
       "      <td>0.0</td>\n",
       "    </tr>\n",
       "    <tr>\n",
       "      <th>15701354</th>\n",
       "      <td>93826.63</td>\n",
       "      <td>0.0</td>\n",
       "    </tr>\n",
       "    <tr>\n",
       "      <th>15737888</th>\n",
       "      <td>79084.10</td>\n",
       "      <td>0.0</td>\n",
       "    </tr>\n",
       "    <tr>\n",
       "      <th>15592531</th>\n",
       "      <td>10062.80</td>\n",
       "      <td>0.0</td>\n",
       "    </tr>\n",
       "    <tr>\n",
       "      <th>...</th>\n",
       "      <td>...</td>\n",
       "      <td>...</td>\n",
       "    </tr>\n",
       "    <tr>\n",
       "      <th>15606229</th>\n",
       "      <td>96270.64</td>\n",
       "      <td>0.0</td>\n",
       "    </tr>\n",
       "    <tr>\n",
       "      <th>15569892</th>\n",
       "      <td>101699.77</td>\n",
       "      <td>0.0</td>\n",
       "    </tr>\n",
       "    <tr>\n",
       "      <th>15584532</th>\n",
       "      <td>42085.58</td>\n",
       "      <td>1.0</td>\n",
       "    </tr>\n",
       "    <tr>\n",
       "      <th>15682355</th>\n",
       "      <td>92888.52</td>\n",
       "      <td>1.0</td>\n",
       "    </tr>\n",
       "    <tr>\n",
       "      <th>15628319</th>\n",
       "      <td>38190.78</td>\n",
       "      <td>0.0</td>\n",
       "    </tr>\n",
       "  </tbody>\n",
       "</table>\n",
       "<p>9966 rows × 2 columns</p>\n",
       "</div>"
      ],
      "text/plain": [
       "            EstimatedSalary  Exited\n",
       "CustomerId                         \n",
       "15634602          101348.88     1.0\n",
       "15647311          112542.58     0.0\n",
       "15701354           93826.63     0.0\n",
       "15737888           79084.10     0.0\n",
       "15592531           10062.80     0.0\n",
       "...                     ...     ...\n",
       "15606229           96270.64     0.0\n",
       "15569892          101699.77     0.0\n",
       "15584532           42085.58     1.0\n",
       "15682355           92888.52     1.0\n",
       "15628319           38190.78     0.0\n",
       "\n",
       "[9966 rows x 2 columns]"
      ]
     },
     "execution_count": 74,
     "metadata": {},
     "output_type": "execute_result"
    }
   ],
   "source": [
    "salary_churn = answer_words[['EstimatedSalary', 'Exited']]\n",
    "salary_churn = salary_churn.dropna()\n",
    "salary_churn"
   ]
  },
  {
   "cell_type": "code",
   "execution_count": 75,
   "id": "30b710af",
   "metadata": {},
   "outputs": [
    {
     "data": {
      "text/plain": [
       "<AxesSubplot:title={'center':'Client Salary Distribution'}, ylabel='Frequency'>"
      ]
     },
     "execution_count": 75,
     "metadata": {},
     "output_type": "execute_result"
    },
    {
     "data": {
      "image/png": "[encoded data removed]",
      "text/plain": [
       "<Figure size 432x288 with 1 Axes>"
      ]
     },
     "metadata": {},
     "output_type": "display_data"
    }
   ],
   "source": [
    "salary_churn.get('EstimatedSalary').plot(kind='hist', title=\"Client Salary Distribution\")"
   ]
  },
  {
   "cell_type": "code",
   "execution_count": 76,
   "id": "699f2917",
   "metadata": {},
   "outputs": [
    {
     "data": {
      "text/plain": [
       "100059.77425847863"
      ]
     },
     "execution_count": 76,
     "metadata": {},
     "output_type": "execute_result"
    }
   ],
   "source": [
    "mean_salary = salary_churn.get('EstimatedSalary').mean()\n",
    "mean_salary"
   ]
  },
  {
   "cell_type": "code",
   "execution_count": 77,
   "id": "e66727f7",
   "metadata": {},
   "outputs": [],
   "source": [
    "salary_churn_1 = salary_churn[salary_churn.get('EstimatedSalary') < mean_salary / 2]\n",
    "mean_churn_1 = salary_churn_1.get(\"Exited\").mean() # average churn rate for customers with revenue less than median\n",
    "salary_churn_2 = salary_churn[(salary_churn.get('EstimatedSalary') >= mean_salary / 2) & (salary_churn.get('EstimatedSalary') < mean_salary)]\n",
    "mean_churn_2 = salary_churn_2.get(\"Exited\").mean() # average churn rate for customers with revenue greater than median\n",
    "salary_churn_3 = salary_churn[(salary_churn.get('EstimatedSalary') >= mean_salary) & (salary_churn.get('EstimatedSalary') < mean_salary / 2 + mean_salary)]\n",
    "mean_churn_3 = salary_churn_3.get(\"Exited\").mean() # average churn rate for customers with revenue greater than median\n",
    "salary_churn_4 = salary_churn[salary_churn.get('EstimatedSalary') >= mean_salary / 2 + mean_salary]\n",
    "mean_churn_4 = salary_churn_4.get(\"Exited\").mean() # average churn rate for customers with revenue greater than median\n",
    "labels = [\"1\", \"2\", \"3\", \"4\"]\n",
    "values = [mean_churn_1, mean_churn_2, mean_churn_3, mean_churn_4]"
   ]
  },
  {
   "cell_type": "code",
   "execution_count": 78,
   "id": "bda48953",
   "metadata": {},
   "outputs": [
    {
     "data": {
      "text/plain": [
       "Text(0.5, 1.0, 'Customer Churn vs Estimated Salary')"
      ]
     },
     "execution_count": 78,
     "metadata": {},
     "output_type": "execute_result"
    },
    {
     "data": {
      "image/png": "[encoded data removed]",
      "text/plain": [
       "<Figure size 432x288 with 1 Axes>"
      ]
     },
     "metadata": {},
     "output_type": "display_data"
    }
   ],
   "source": [
    "plt.bar(labels0, values0)\n",
    "plt.title(\"Customer Churn vs Estimated Salary\")"
   ]
  },
  {
   "cell_type": "code",
   "execution_count": 79,
   "id": "8475cf4f",
   "metadata": {},
   "outputs": [
    {
     "name": "stdout",
     "output_type": "stream",
     "text": [
      "50029.887129239316 100059.77425847863 150089.66138771793\n"
     ]
    }
   ],
   "source": [
    "print(mean_salary / 2, mean_salary, mean_salary / 2 + mean_salary)"
   ]
  },
  {
   "cell_type": "code",
   "execution_count": null,
   "id": "1911a00f",
   "metadata": {},
   "outputs": [],
   "source": []
  }
 ],
 "metadata": {
  "kernelspec": {
   "display_name": "Python 3 (ipykernel)",
   "language": "python",
   "name": "python3"
  },
  "language_info": {
   "codemirror_mode": {
    "name": "ipython",
    "version": 3
   },
   "file_extension": ".py",
   "mimetype": "text/x-python",
   "name": "python",
   "nbconvert_exporter": "python",
   "pygments_lexer": "ipython3",
   "version": "3.9.5"
  }
 },
 "nbformat": 4,
 "nbformat_minor": 5
}
